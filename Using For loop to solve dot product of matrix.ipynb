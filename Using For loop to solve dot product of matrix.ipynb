{
 "cells": [
  {
   "cell_type": "code",
   "execution_count": 1,
   "id": "6714b90e-1f5f-49c7-8127-e352f584204e",
   "metadata": {},
   "outputs": [],
   "source": [
    "import numpy as np\n",
    "import pandas as pd \n",
    "import matplotlib.pyplot as plt"
   ]
  },
  {
   "cell_type": "markdown",
   "id": "f65609b1-20c0-44d6-aafc-549e69f242b8",
   "metadata": {},
   "source": [
    "# How to make plot vectors plots "
   ]
  },
  {
   "cell_type": "code",
   "execution_count": 12,
   "id": "bc671251-b753-4683-8429-d8411dac5e3c",
   "metadata": {},
   "outputs": [],
   "source": [
    "v2 = np.array([3,-2])"
   ]
  },
  {
   "cell_type": "code",
   "execution_count": 13,
   "id": "a64583cc-7770-4640-9a02-b1804ab29d8b",
   "metadata": {},
   "outputs": [
    {
     "data": {
      "text/plain": [
       "1"
      ]
     },
     "execution_count": 13,
     "metadata": {},
     "output_type": "execute_result"
    }
   ],
   "source": [
    "v2.ndim"
   ]
  },
  {
   "cell_type": "code",
   "execution_count": 15,
   "id": "fb5cf427-7ac2-4b22-91f9-73b093670295",
   "metadata": {},
   "outputs": [
    {
     "data": {
      "text/plain": [
       "1"
      ]
     },
     "execution_count": 15,
     "metadata": {},
     "output_type": "execute_result"
    }
   ],
   "source": [
    "v3 = np.array([4,-3,2])\n",
    "v3.ndim"
   ]
  },
  {
   "cell_type": "code",
   "execution_count": 27,
   "id": "6b67d080-d2de-492b-ab19-eced3140526a",
   "metadata": {},
   "outputs": [
    {
     "data": {
      "image/png": "[encoded data removed]",
      "text/plain": [
       "<Figure size 600x500 with 1 Axes>"
      ]
     },
     "metadata": {},
     "output_type": "display_data"
    }
   ],
   "source": [
    "fig, ax = plt.subplots(figsize=(6,5)) \n",
    "ax.plot([0,v2[0]],[0,v2[1]])\n",
    "ax.set(xlim=(-4,4),ylim=(-4,4))\n",
    "ax.set(xlabel=\"X-axis\",ylabel=\"Y'axis\")\n",
    "ax.axhline(y=0)\n",
    "ax.axvline(x=0)\n",
    "ax.grid()\n",
    "plt.show()\n",
    "\n"
   ]
  },
  {
   "cell_type": "markdown",
   "id": "23dc77d9-e067-426a-9ff1-b22f5e778209",
   "metadata": {},
   "source": [
    "### Using For loop to solve dot product of matrix "
   ]
  },
  {
   "cell_type": "code",
   "execution_count": 29,
   "id": "977e2a66-2c73-4e9d-887c-87b246c3ce06",
   "metadata": {},
   "outputs": [],
   "source": [
    "A = np.random.randint(1,10, size=(4,6))\n",
    "B = np.random.randint(1,10, size=(4,6))"
   ]
  },
  {
   "cell_type": "code",
   "execution_count": 30,
   "id": "fff91426-f6ad-4c78-af03-12d972c686be",
   "metadata": {},
   "outputs": [
    {
     "data": {
      "text/plain": [
       "array([[3, 7, 9, 7, 8, 6],\n",
       "       [7, 4, 8, 3, 7, 7],\n",
       "       [3, 3, 1, 9, 8, 6],\n",
       "       [6, 9, 7, 3, 9, 4]])"
      ]
     },
     "execution_count": 30,
     "metadata": {},
     "output_type": "execute_result"
    }
   ],
   "source": [
    "A"
   ]
  },
  {
   "cell_type": "code",
   "execution_count": 31,
   "id": "615779d3-caf0-4ccd-8483-85de03b4fa27",
   "metadata": {},
   "outputs": [
    {
     "data": {
      "text/plain": [
       "array([[6, 4, 3, 8, 5, 2],\n",
       "       [3, 7, 7, 4, 5, 3],\n",
       "       [5, 8, 1, 5, 4, 9],\n",
       "       [8, 9, 5, 6, 3, 5]])"
      ]
     },
     "execution_count": 31,
     "metadata": {},
     "output_type": "execute_result"
    }
   ],
   "source": [
    "B"
   ]
  },
  {
   "cell_type": "code",
   "execution_count": 35,
   "id": "47ab6100-f520-4e99-903a-8508bd4ae965",
   "metadata": {},
   "outputs": [
    {
     "name": "stdout",
     "output_type": "stream",
     "text": [
      "[[140. 196. 102. 139.   0.   0.]\n",
      " [118. 147.  72. 130.   0.   0.]\n",
      " [104. 122.  76.  95.   0.   0.]\n",
      " [122. 170. 103. 137.   0.   0.]]\n"
     ]
    }
   ],
   "source": [
    "# using for loop to solve dot product \n",
    "n  = A.shape[0]\n",
    "result = np.zeros((4,6))\n",
    "\n",
    "for i in range(n):\n",
    "    for j in range(n):\n",
    "        for k in range(n):\n",
    "            result[i,j] += A[i,k] * B[k,j]\n",
    "\n",
    "print(result)"
   ]
  },
  {
   "cell_type": "code",
   "execution_count": null,
   "id": "c8ddeaa2-84dc-4758-9bc0-81f68e578afd",
   "metadata": {},
   "outputs": [],
   "source": []
  }
 ],
 "metadata": {
  "kernelspec": {
   "display_name": "Python 3 (ipykernel)",
   "language": "python",
   "name": "python3"
  },
  "language_info": {
   "codemirror_mode": {
    "name": "ipython",
    "version": 3
   },
   "file_extension": ".py",
   "mimetype": "text/x-python",
   "name": "python",
   "nbconvert_exporter": "python",
   "pygments_lexer": "ipython3",
   "version": "3.12.4"
  },
  "widgets": {
   "application/vnd.jupyter.widget-state+json": {
    "state": {},
    "version_major": 2,
    "version_minor": 0
   }
  }
 },
 "nbformat": 4,
 "nbformat_minor": 5
}
