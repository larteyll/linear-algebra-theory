{
 "cells": [
  {
   "cell_type": "code",
   "execution_count": 1,
   "id": "fbfc8947-1b23-46a7-9e86-3e9700ba42f3",
   "metadata": {},
   "outputs": [],
   "source": [
    "import numpy as np \n",
    "import pandas as pd "
   ]
  },
  {
   "cell_type": "code",
   "execution_count": 2,
   "id": "b47dc95a-d382-4ec8-87e6-a4110b522602",
   "metadata": {},
   "outputs": [
    {
     "data": {
      "text/plain": [
       "array([ 1.,  2.,  3.,  4.,  5.,  6.,  7.,  8.,  9., 10.])"
      ]
     },
     "execution_count": 2,
     "metadata": {},
     "output_type": "execute_result"
    }
   ],
   "source": [
    "v1 = np.linspace(1, 10, 10)\n",
    "v1"
   ]
  },
  {
   "cell_type": "code",
   "execution_count": 3,
   "id": "9f6c507c-edc3-4ca9-be7e-23270837e0e0",
   "metadata": {},
   "outputs": [
    {
     "name": "stdout",
     "output_type": "stream",
     "text": [
      "The length of Vector v1 is: 19.621416870348583\n"
     ]
    }
   ],
   "source": [
    "# the length of the vector\n",
    "\n",
    "length_of_Vector = np.linalg.norm(v1)\n",
    "print(f'The length of Vector v1 is: {length_of_Vector}')"
   ]
  },
  {
   "cell_type": "code",
   "execution_count": null,
   "id": "9828bce1-2956-4c5c-b92a-52df7229ebd6",
   "metadata": {},
   "outputs": [],
   "source": []
  }
 ],
 "metadata": {
  "kernelspec": {
   "display_name": "Python 3 (ipykernel)",
   "language": "python",
   "name": "python3"
  },
  "language_info": {
   "codemirror_mode": {
    "name": "ipython",
    "version": 3
   },
   "file_extension": ".py",
   "mimetype": "text/x-python",
   "name": "python",
   "nbconvert_exporter": "python",
   "pygments_lexer": "ipython3",
   "version": "3.12.4"
  },
  "widgets": {
   "application/vnd.jupyter.widget-state+json": {
    "state": {},
    "version_major": 2,
    "version_minor": 0
   }
  }
 },
 "nbformat": 4,
 "nbformat_minor": 5
}
