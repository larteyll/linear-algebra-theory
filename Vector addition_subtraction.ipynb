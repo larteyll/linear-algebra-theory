{
 "cells": [
  {
   "cell_type": "code",
   "execution_count": 1,
   "id": "d7ed81f1-60b0-4b1d-ac12-0881ff8f4bb3",
   "metadata": {},
   "outputs": [],
   "source": [
    "import numpy as np \n",
    "import pandas as pd \n"
   ]
  },
  {
   "cell_type": "markdown",
   "id": "35ac583b-4a6c-4a7d-bf51-f20689b57bee",
   "metadata": {},
   "source": [
    "# Vector Addition and Subtraction "
   ]
  },
  {
   "cell_type": "markdown",
   "id": "cd170791-0f99-4208-a59e-38f07713087f",
   "metadata": {},
   "source": [
    "## Vector Addition "
   ]
  },
  {
   "cell_type": "code",
   "execution_count": 7,
   "id": "52fdca2a-47c4-4803-87e4-78734a2d350d",
   "metadata": {},
   "outputs": [],
   "source": [
    "# create two vectors \n",
    "v1 = np.linspace(1,10,10)\n",
    "v2 = np.linspace(2,10,10)"
   ]
  },
  {
   "cell_type": "code",
   "execution_count": 8,
   "id": "cb1913e9-3360-4d93-a425-9bb5d4c51072",
   "metadata": {},
   "outputs": [
    {
     "data": {
      "text/plain": [
       "array([ 3.        ,  4.88888889,  6.77777778,  8.66666667, 10.55555556,\n",
       "       12.44444444, 14.33333333, 16.22222222, 18.11111111, 20.        ])"
      ]
     },
     "execution_count": 8,
     "metadata": {},
     "output_type": "execute_result"
    }
   ],
   "source": [
    "# Addition of vectors\n",
    "v3 = v1 + v2\n",
    "v3"
   ]
  },
  {
   "cell_type": "code",
   "execution_count": null,
   "id": "57b0d1ea-10c4-4ee2-aa5d-f0cbbadf2729",
   "metadata": {},
   "outputs": [],
   "source": []
  }
 ],
 "metadata": {
  "kernelspec": {
   "display_name": "Python 3 (ipykernel)",
   "language": "python",
   "name": "python3"
  },
  "language_info": {
   "codemirror_mode": {
    "name": "ipython",
    "version": 3
   },
   "file_extension": ".py",
   "mimetype": "text/x-python",
   "name": "python",
   "nbconvert_exporter": "python",
   "pygments_lexer": "ipython3",
   "version": "3.12.4"
  },
  "widgets": {
   "application/vnd.jupyter.widget-state+json": {
    "state": {},
    "version_major": 2,
    "version_minor": 0
   }
  }
 },
 "nbformat": 4,
 "nbformat_minor": 5
}
